{
  "nbformat": 4,
  "nbformat_minor": 0,
  "metadata": {
    "colab": {
      "provenance": [],
      "authorship_tag": "ABX9TyPi4Qy7Vo9io+3NMsUGxpjn",
      "include_colab_link": true
    },
    "kernelspec": {
      "name": "python3",
      "display_name": "Python 3"
    },
    "language_info": {
      "name": "python"
    }
  },
  "cells": [
    {
      "cell_type": "markdown",
      "metadata": {
        "id": "view-in-github",
        "colab_type": "text"
      },
      "source": [
        "<a href=\"https://colab.research.google.com/github/Shokir-developer/test_numPy_speed/blob/main/test_speed_numpy.ipynb\" target=\"_parent\"><img src=\"https://colab.research.google.com/assets/colab-badge.svg\" alt=\"Open In Colab\"/></a>"
      ]
    },
    {
      "cell_type": "code",
      "execution_count": null,
      "metadata": {
        "id": "KXWvYlishG7G"
      },
      "outputs": [],
      "source": [
        "import numpy as np\n",
        "\n",
        "listx = list(range(10000))\n",
        "array = np.array(range(10000))"
      ]
    },
    {
      "cell_type": "code",
      "source": [
        "%time for _ in range(1000): [x * 2 for x in listx]"
      ],
      "metadata": {
        "colab": {
          "base_uri": "https://localhost:8080/"
        },
        "id": "P6SXlNbChVRa",
        "outputId": "9abc85f6-d96a-4614-da66-b69237301345"
      },
      "execution_count": null,
      "outputs": [
        {
          "output_type": "stream",
          "name": "stdout",
          "text": [
            "CPU times: user 934 ms, sys: 6.19 ms, total: 940 ms\n",
            "Wall time: 974 ms\n"
          ]
        }
      ]
    },
    {
      "cell_type": "code",
      "source": [
        "%time for _ in range(1000): array * 2"
      ],
      "metadata": {
        "colab": {
          "base_uri": "https://localhost:8080/"
        },
        "id": "M_tebvmghlxR",
        "outputId": "9b4d08f6-264c-4e81-fa08-e796806490b5"
      },
      "execution_count": null,
      "outputs": [
        {
          "output_type": "stream",
          "name": "stdout",
          "text": [
            "CPU times: user 9.2 ms, sys: 37 µs, total: 9.24 ms\n",
            "Wall time: 8.91 ms\n"
          ]
        }
      ]
    },
    {
      "cell_type": "code",
      "source": [
        "974 / 8.91"
      ],
      "metadata": {
        "colab": {
          "base_uri": "https://localhost:8080/"
        },
        "id": "TJjBCj2ghp8g",
        "outputId": "8c492112-5726-43c7-a590-e9dc5e025ea9"
      },
      "execution_count": null,
      "outputs": [
        {
          "output_type": "execute_result",
          "data": {
            "text/plain": [
              "109.31537598204265"
            ]
          },
          "metadata": {},
          "execution_count": 6
        }
      ]
    },
    {
      "cell_type": "code",
      "source": [
        "import numpy as np\n",
        "\n",
        "lisxt = list(range(10000))\n",
        "arrayt = np.array(range(10000))"
      ],
      "metadata": {
        "id": "g2Rq5xp5hxiY"
      },
      "execution_count": 7,
      "outputs": []
    },
    {
      "cell_type": "code",
      "source": [
        "%time for _ in range(1000): [x * 2 for x in lisxt]"
      ],
      "metadata": {
        "colab": {
          "base_uri": "https://localhost:8080/"
        },
        "id": "CEzN8tTAiRii",
        "outputId": "d0369dd3-c9ab-441b-dded-99a2046edf56"
      },
      "execution_count": 8,
      "outputs": [
        {
          "output_type": "stream",
          "name": "stdout",
          "text": [
            "CPU times: user 592 ms, sys: 6.59 ms, total: 599 ms\n",
            "Wall time: 608 ms\n"
          ]
        }
      ]
    },
    {
      "cell_type": "code",
      "source": [
        "%time for _ in range(1000): arrayt * 2"
      ],
      "metadata": {
        "colab": {
          "base_uri": "https://localhost:8080/"
        },
        "id": "-aoQME6OiTwo",
        "outputId": "9c189410-3cab-4049-cf23-277ee107cb3c"
      },
      "execution_count": 9,
      "outputs": [
        {
          "output_type": "stream",
          "name": "stdout",
          "text": [
            "CPU times: user 9.6 ms, sys: 65 µs, total: 9.67 ms\n",
            "Wall time: 10.6 ms\n"
          ]
        }
      ]
    },
    {
      "cell_type": "code",
      "source": [
        "608/10.6"
      ],
      "metadata": {
        "colab": {
          "base_uri": "https://localhost:8080/"
        },
        "id": "KW2xF4z0iVto",
        "outputId": "621de819-45b2-4afc-c26b-f03dadeb16a9"
      },
      "execution_count": 10,
      "outputs": [
        {
          "output_type": "execute_result",
          "data": {
            "text/plain": [
              "57.35849056603774"
            ]
          },
          "metadata": {},
          "execution_count": 10
        }
      ]
    },
    {
      "cell_type": "code",
      "source": [],
      "metadata": {
        "id": "jqEHyfe7iXkA"
      },
      "execution_count": null,
      "outputs": []
    }
  ]
}